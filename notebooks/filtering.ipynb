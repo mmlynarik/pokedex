{
 "cells": [
  {
   "cell_type": "code",
   "execution_count": 22,
   "id": "54063cc7",
   "metadata": {},
   "outputs": [
    {
     "data": {
      "text/plain": [
       "<QuerySet [<PokemonType: poison>, <PokemonType: grass>]>"
      ]
     },
     "execution_count": 22,
     "metadata": {},
     "output_type": "execute_result"
    }
   ],
   "source": [
    "import django\n",
    "\n",
    "django.setup()\n",
    "\n",
    "from pokeapp.models import Pokemon, PokemonAbility\n",
    "\n",
    "\n",
    "p = Pokemon.objects.prefetch_related(\"abilities\").get(pk=1)\n",
    "p.types.all()"
   ]
  }
 ],
 "metadata": {
  "kernelspec": {
   "display_name": ".venv",
   "language": "python",
   "name": "python3"
  },
  "language_info": {
   "codemirror_mode": {
    "name": "ipython",
    "version": 3
   },
   "file_extension": ".py",
   "mimetype": "text/x-python",
   "name": "python",
   "nbconvert_exporter": "python",
   "pygments_lexer": "ipython3",
   "version": "3.13.2"
  }
 },
 "nbformat": 4,
 "nbformat_minor": 5
}
